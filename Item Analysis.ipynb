{
 "cells": [
  {
   "cell_type": "code",
   "execution_count": 1,
   "metadata": {},
   "outputs": [],
   "source": [
    "import pandas as pd\n",
    "import numpy as np\n",
    "import seaborn as sns\n",
    "import matplotlib.pyplot as plt\n",
    "%matplotlib inline\n",
    "sns.set(color_codes=True)"
   ]
  },
  {
   "cell_type": "code",
   "execution_count": 2,
   "metadata": {},
   "outputs": [
    {
     "data": {
      "text/html": [
       "<div>\n",
       "<style scoped>\n",
       "    .dataframe tbody tr th:only-of-type {\n",
       "        vertical-align: middle;\n",
       "    }\n",
       "\n",
       "    .dataframe tbody tr th {\n",
       "        vertical-align: top;\n",
       "    }\n",
       "\n",
       "    .dataframe thead th {\n",
       "        text-align: right;\n",
       "    }\n",
       "</style>\n",
       "<table border=\"1\" class=\"dataframe\">\n",
       "  <thead>\n",
       "    <tr style=\"text-align: right;\">\n",
       "      <th></th>\n",
       "      <th>Item_id</th>\n",
       "      <th>Item_Description</th>\n",
       "      <th>Category</th>\n",
       "      <th>Pack</th>\n",
       "      <th>Bottle_Volume_ml</th>\n",
       "      <th>Bottle_Cost</th>\n",
       "      <th>Bottle_Retail_Price</th>\n",
       "    </tr>\n",
       "  </thead>\n",
       "  <tbody>\n",
       "    <tr>\n",
       "      <th>0</th>\n",
       "      <td>101</td>\n",
       "      <td>Kanna's Grapefruit Soda</td>\n",
       "      <td>Grapefruit Soda</td>\n",
       "      <td>6</td>\n",
       "      <td>750.0</td>\n",
       "      <td>4.32</td>\n",
       "      <td>6.48</td>\n",
       "    </tr>\n",
       "    <tr>\n",
       "      <th>1</th>\n",
       "      <td>102</td>\n",
       "      <td>Alphonse's Fruit Punch</td>\n",
       "      <td>Fruit Punch</td>\n",
       "      <td>6</td>\n",
       "      <td>800.0</td>\n",
       "      <td>3.33</td>\n",
       "      <td>5.00</td>\n",
       "    </tr>\n",
       "    <tr>\n",
       "      <th>2</th>\n",
       "      <td>103</td>\n",
       "      <td>Yummy Surstromming Juice</td>\n",
       "      <td>NaN</td>\n",
       "      <td>1</td>\n",
       "      <td>750.0</td>\n",
       "      <td>10.30</td>\n",
       "      <td>20.10</td>\n",
       "    </tr>\n",
       "    <tr>\n",
       "      <th>3</th>\n",
       "      <td>107</td>\n",
       "      <td>Tamaki's Watermelon Cream</td>\n",
       "      <td>Cream Soda</td>\n",
       "      <td>6</td>\n",
       "      <td>750.0</td>\n",
       "      <td>4.44</td>\n",
       "      <td>6.66</td>\n",
       "    </tr>\n",
       "    <tr>\n",
       "      <th>4</th>\n",
       "      <td>108</td>\n",
       "      <td>Kaori's Grapefruit Soda</td>\n",
       "      <td>Grapefruit Soda</td>\n",
       "      <td>6</td>\n",
       "      <td>750.0</td>\n",
       "      <td>3.12</td>\n",
       "      <td>4.68</td>\n",
       "    </tr>\n",
       "  </tbody>\n",
       "</table>\n",
       "</div>"
      ],
      "text/plain": [
       "   Item_id           Item_Description         Category  Pack  \\\n",
       "0      101    Kanna's Grapefruit Soda  Grapefruit Soda     6   \n",
       "1      102     Alphonse's Fruit Punch      Fruit Punch     6   \n",
       "2      103   Yummy Surstromming Juice              NaN     1   \n",
       "3      107  Tamaki's Watermelon Cream       Cream Soda     6   \n",
       "4      108    Kaori's Grapefruit Soda  Grapefruit Soda     6   \n",
       "\n",
       "   Bottle_Volume_ml  Bottle_Cost  Bottle_Retail_Price  \n",
       "0             750.0         4.32                 6.48  \n",
       "1             800.0         3.33                 5.00  \n",
       "2             750.0        10.30                20.10  \n",
       "3             750.0         4.44                 6.66  \n",
       "4             750.0         3.12                 4.68  "
      ]
     },
     "execution_count": 2,
     "metadata": {},
     "output_type": "execute_result"
    }
   ],
   "source": [
    "df = pd.read_csv(\"data_code/data_code/item.csv\")\n",
    "# To display the top 5 rows\n",
    "df.head(5)"
   ]
  },
  {
   "cell_type": "code",
   "execution_count": 3,
   "metadata": {},
   "outputs": [
    {
     "data": {
      "text/html": [
       "<div>\n",
       "<style scoped>\n",
       "    .dataframe tbody tr th:only-of-type {\n",
       "        vertical-align: middle;\n",
       "    }\n",
       "\n",
       "    .dataframe tbody tr th {\n",
       "        vertical-align: top;\n",
       "    }\n",
       "\n",
       "    .dataframe thead th {\n",
       "        text-align: right;\n",
       "    }\n",
       "</style>\n",
       "<table border=\"1\" class=\"dataframe\">\n",
       "  <thead>\n",
       "    <tr style=\"text-align: right;\">\n",
       "      <th></th>\n",
       "      <th>Item_id</th>\n",
       "      <th>Item_Description</th>\n",
       "      <th>Category</th>\n",
       "      <th>Pack</th>\n",
       "      <th>Bottle_Volume_ml</th>\n",
       "      <th>Bottle_Cost</th>\n",
       "      <th>Bottle_Retail_Price</th>\n",
       "    </tr>\n",
       "  </thead>\n",
       "  <tbody>\n",
       "    <tr>\n",
       "      <th>4161</th>\n",
       "      <td>994644</td>\n",
       "      <td>Saitama's Cream Soda</td>\n",
       "      <td>Cream Soda</td>\n",
       "      <td>6</td>\n",
       "      <td>750.0</td>\n",
       "      <td>12.60</td>\n",
       "      <td>18.90</td>\n",
       "    </tr>\n",
       "    <tr>\n",
       "      <th>4162</th>\n",
       "      <td>994786</td>\n",
       "      <td>Kenji's Vanilla Cream Soda</td>\n",
       "      <td>Cream Soda</td>\n",
       "      <td>6</td>\n",
       "      <td>750.0</td>\n",
       "      <td>4.27</td>\n",
       "      <td>6.41</td>\n",
       "    </tr>\n",
       "    <tr>\n",
       "      <th>4163</th>\n",
       "      <td>994972</td>\n",
       "      <td>Tanya's Vanilla Cream Soda</td>\n",
       "      <td>Cream Soda</td>\n",
       "      <td>6</td>\n",
       "      <td>750.0</td>\n",
       "      <td>5.87</td>\n",
       "      <td>8.81</td>\n",
       "    </tr>\n",
       "    <tr>\n",
       "      <th>4164</th>\n",
       "      <td>995606</td>\n",
       "      <td>Sakura's Cream Soda</td>\n",
       "      <td>Cream Soda</td>\n",
       "      <td>12</td>\n",
       "      <td>750.0</td>\n",
       "      <td>3.72</td>\n",
       "      <td>5.58</td>\n",
       "    </tr>\n",
       "    <tr>\n",
       "      <th>4165</th>\n",
       "      <td>996026</td>\n",
       "      <td>Tetsuya's Cream Soda</td>\n",
       "      <td>Cream Soda</td>\n",
       "      <td>6</td>\n",
       "      <td>750.0</td>\n",
       "      <td>6.81</td>\n",
       "      <td>10.22</td>\n",
       "    </tr>\n",
       "  </tbody>\n",
       "</table>\n",
       "</div>"
      ],
      "text/plain": [
       "      Item_id            Item_Description    Category  Pack  Bottle_Volume_ml  \\\n",
       "4161   994644        Saitama's Cream Soda  Cream Soda     6             750.0   \n",
       "4162   994786  Kenji's Vanilla Cream Soda  Cream Soda     6             750.0   \n",
       "4163   994972  Tanya's Vanilla Cream Soda  Cream Soda     6             750.0   \n",
       "4164   995606         Sakura's Cream Soda  Cream Soda    12             750.0   \n",
       "4165   996026        Tetsuya's Cream Soda  Cream Soda     6             750.0   \n",
       "\n",
       "      Bottle_Cost  Bottle_Retail_Price  \n",
       "4161        12.60                18.90  \n",
       "4162         4.27                 6.41  \n",
       "4163         5.87                 8.81  \n",
       "4164         3.72                 5.58  \n",
       "4165         6.81                10.22  "
      ]
     },
     "execution_count": 3,
     "metadata": {},
     "output_type": "execute_result"
    }
   ],
   "source": [
    "df.tail(5)"
   ]
  },
  {
   "cell_type": "code",
   "execution_count": 4,
   "metadata": {},
   "outputs": [
    {
     "data": {
      "text/html": [
       "<div>\n",
       "<style scoped>\n",
       "    .dataframe tbody tr th:only-of-type {\n",
       "        vertical-align: middle;\n",
       "    }\n",
       "\n",
       "    .dataframe tbody tr th {\n",
       "        vertical-align: top;\n",
       "    }\n",
       "\n",
       "    .dataframe thead th {\n",
       "        text-align: right;\n",
       "    }\n",
       "</style>\n",
       "<table border=\"1\" class=\"dataframe\">\n",
       "  <thead>\n",
       "    <tr style=\"text-align: right;\">\n",
       "      <th></th>\n",
       "      <th>Item_id</th>\n",
       "      <th>Pack</th>\n",
       "      <th>Bottle_Volume_ml</th>\n",
       "      <th>Bottle_Cost</th>\n",
       "      <th>Bottle_Retail_Price</th>\n",
       "    </tr>\n",
       "  </thead>\n",
       "  <tbody>\n",
       "    <tr>\n",
       "      <th>count</th>\n",
       "      <td>4166.000000</td>\n",
       "      <td>4166.000000</td>\n",
       "      <td>4166.000000</td>\n",
       "      <td>4166.000000</td>\n",
       "      <td>4163.000000</td>\n",
       "    </tr>\n",
       "    <tr>\n",
       "      <th>mean</th>\n",
       "      <td>154512.392943</td>\n",
       "      <td>11.260442</td>\n",
       "      <td>936.963274</td>\n",
       "      <td>3.648721</td>\n",
       "      <td>5.485763</td>\n",
       "    </tr>\n",
       "    <tr>\n",
       "      <th>std</th>\n",
       "      <td>292382.354448</td>\n",
       "      <td>11.913901</td>\n",
       "      <td>6244.415564</td>\n",
       "      <td>9.348512</td>\n",
       "      <td>14.027764</td>\n",
       "    </tr>\n",
       "    <tr>\n",
       "      <th>min</th>\n",
       "      <td>101.000000</td>\n",
       "      <td>1.000000</td>\n",
       "      <td>0.000000</td>\n",
       "      <td>1.500000</td>\n",
       "      <td>2.450000</td>\n",
       "    </tr>\n",
       "    <tr>\n",
       "      <th>25%</th>\n",
       "      <td>28799.250000</td>\n",
       "      <td>6.000000</td>\n",
       "      <td>750.000000</td>\n",
       "      <td>2.360000</td>\n",
       "      <td>3.580000</td>\n",
       "    </tr>\n",
       "    <tr>\n",
       "      <th>50%</th>\n",
       "      <td>43336.500000</td>\n",
       "      <td>12.000000</td>\n",
       "      <td>750.000000</td>\n",
       "      <td>2.860000</td>\n",
       "      <td>4.300000</td>\n",
       "    </tr>\n",
       "    <tr>\n",
       "      <th>75%</th>\n",
       "      <td>78591.500000</td>\n",
       "      <td>12.000000</td>\n",
       "      <td>750.000000</td>\n",
       "      <td>3.610000</td>\n",
       "      <td>5.420000</td>\n",
       "    </tr>\n",
       "    <tr>\n",
       "      <th>max</th>\n",
       "      <td>996026.000000</td>\n",
       "      <td>336.000000</td>\n",
       "      <td>378000.000000</td>\n",
       "      <td>500.000000</td>\n",
       "      <td>750.000000</td>\n",
       "    </tr>\n",
       "  </tbody>\n",
       "</table>\n",
       "</div>"
      ],
      "text/plain": [
       "             Item_id         Pack  Bottle_Volume_ml  Bottle_Cost  \\\n",
       "count    4166.000000  4166.000000       4166.000000  4166.000000   \n",
       "mean   154512.392943    11.260442        936.963274     3.648721   \n",
       "std    292382.354448    11.913901       6244.415564     9.348512   \n",
       "min       101.000000     1.000000          0.000000     1.500000   \n",
       "25%     28799.250000     6.000000        750.000000     2.360000   \n",
       "50%     43336.500000    12.000000        750.000000     2.860000   \n",
       "75%     78591.500000    12.000000        750.000000     3.610000   \n",
       "max    996026.000000   336.000000     378000.000000   500.000000   \n",
       "\n",
       "       Bottle_Retail_Price  \n",
       "count          4163.000000  \n",
       "mean              5.485763  \n",
       "std              14.027764  \n",
       "min               2.450000  \n",
       "25%               3.580000  \n",
       "50%               4.300000  \n",
       "75%               5.420000  \n",
       "max             750.000000  "
      ]
     },
     "execution_count": 4,
     "metadata": {},
     "output_type": "execute_result"
    }
   ],
   "source": [
    "df.describe()"
   ]
  },
  {
   "cell_type": "code",
   "execution_count": 5,
   "metadata": {},
   "outputs": [
    {
     "data": {
      "text/plain": [
       "Item_id                4166\n",
       "Item_Description       4166\n",
       "Category               4162\n",
       "Pack                   4166\n",
       "Bottle_Volume_ml       4166\n",
       "Bottle_Cost            4166\n",
       "Bottle_Retail_Price    4163\n",
       "dtype: int64"
      ]
     },
     "execution_count": 5,
     "metadata": {},
     "output_type": "execute_result"
    }
   ],
   "source": [
    "df.count ()"
   ]
  },
  {
   "cell_type": "code",
   "execution_count": 6,
   "metadata": {},
   "outputs": [
    {
     "name": "stdout",
     "output_type": "stream",
     "text": [
      "Item_id                0\n",
      "Item_Description       0\n",
      "Category               4\n",
      "Pack                   0\n",
      "Bottle_Volume_ml       0\n",
      "Bottle_Cost            0\n",
      "Bottle_Retail_Price    3\n",
      "dtype: int64\n"
     ]
    }
   ],
   "source": [
    "print(df.isnull().sum())"
   ]
  },
  {
   "cell_type": "code",
   "execution_count": 7,
   "metadata": {},
   "outputs": [
    {
     "data": {
      "text/plain": [
       "Item_id                4159\n",
       "Item_Description       4159\n",
       "Category               4159\n",
       "Pack                   4159\n",
       "Bottle_Volume_ml       4159\n",
       "Bottle_Cost            4159\n",
       "Bottle_Retail_Price    4159\n",
       "dtype: int64"
      ]
     },
     "execution_count": 7,
     "metadata": {},
     "output_type": "execute_result"
    }
   ],
   "source": [
    "df=df.dropna()\n",
    "df.count()"
   ]
  },
  {
   "cell_type": "code",
   "execution_count": 8,
   "metadata": {},
   "outputs": [
    {
     "name": "stdout",
     "output_type": "stream",
     "text": [
      "Item_id                0\n",
      "Item_Description       0\n",
      "Category               0\n",
      "Pack                   0\n",
      "Bottle_Volume_ml       0\n",
      "Bottle_Cost            0\n",
      "Bottle_Retail_Price    0\n",
      "dtype: int64\n"
     ]
    }
   ],
   "source": [
    "print(df.isnull().sum())"
   ]
  },
  {
   "cell_type": "code",
   "execution_count": 9,
   "metadata": {},
   "outputs": [
    {
     "data": {
      "text/plain": [
       "<AxesSubplot:xlabel='Bottle_Retail_Price'>"
      ]
     },
     "execution_count": 9,
     "metadata": {},
     "output_type": "execute_result"
    },
    {
     "data": {
      "image/png": "[encoded data removed]",
      "text/plain": [
       "<Figure size 432x288 with 1 Axes>"
      ]
     },
     "metadata": {},
     "output_type": "display_data"
    }
   ],
   "source": [
    "sns.boxplot(x=df[\"Bottle_Retail_Price\"])"
   ]
  },
  {
   "cell_type": "code",
   "execution_count": 10,
   "metadata": {},
   "outputs": [
    {
     "data": {
      "text/plain": [
       "<AxesSubplot:xlabel='Bottle_Cost'>"
      ]
     },
     "execution_count": 10,
     "metadata": {},
     "output_type": "execute_result"
    },
    {
     "data": {
      "image/png": "[encoded data removed]",
      "text/plain": [
       "<Figure size 432x288 with 1 Axes>"
      ]
     },
     "metadata": {},
     "output_type": "display_data"
    }
   ],
   "source": [
    "sns.boxplot(x=df[\"Bottle_Cost\"])"
   ]
  },
  {
   "cell_type": "code",
   "execution_count": 11,
   "metadata": {},
   "outputs": [
    {
     "data": {
      "image/png": "[encoded data removed]",
      "text/plain": [
       "<Figure size 720x360 with 1 Axes>"
      ]
     },
     "metadata": {},
     "output_type": "display_data"
    }
   ],
   "source": [
    "df.Category.value_counts().nlargest(40).plot(kind=\"bar\", figsize=(10,5))\n",
    "plt.title(\"Pack\")\n",
    "plt.ylabel(\"Bottle_Volume_ml\")\n",
    "plt.xlabel(\"Item_Description\");"
   ]
  },
  {
   "cell_type": "code",
   "execution_count": 12,
   "metadata": {},
   "outputs": [
    {
     "data": {
      "image/png": "[encoded data removed]",
      "text/plain": [
       "<Figure size 720x432 with 1 Axes>"
      ]
     },
     "metadata": {},
     "output_type": "display_data"
    }
   ],
   "source": [
    "fig, ax=plt.subplots(figsize=(10,6))\n",
    "ax.scatter(df[\"Bottle_Cost\"], df [\"Bottle_Retail_Price\"])\n",
    "ax.set_xlabel(\"Bottle_Cost\")\n",
    "ax.set_ylabel(\"Bottle_Retail_Price\")\n",
    "plt.show()"
   ]
  }
 ],
 "metadata": {
  "kernelspec": {
   "display_name": "Python 3",
   "language": "python",
   "name": "python3"
  },
  "language_info": {
   "codemirror_mode": {
    "name": "ipython",
    "version": 3
   },
   "file_extension": ".py",
   "mimetype": "text/x-python",
   "name": "python",
   "nbconvert_exporter": "python",
   "pygments_lexer": "ipython3",
   "version": "3.8.5"
  }
 },
 "nbformat": 4,
 "nbformat_minor": 4
}
